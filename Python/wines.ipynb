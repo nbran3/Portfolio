{
 "cells": [
  {
   "cell_type": "code",
   "execution_count": 130,
   "metadata": {},
   "outputs": [],
   "source": [
    "import pandas as pd\n",
    "import matplotlib.pyplot as plt\n",
    "import seaborn as sns\n",
    "import numpy as np"
   ]
  },
  {
   "cell_type": "code",
   "execution_count": 131,
   "metadata": {},
   "outputs": [],
   "source": [
    "df = pd.read_csv('wines.csv')"
   ]
  },
  {
   "cell_type": "code",
   "execution_count": 132,
   "metadata": {},
   "outputs": [
    {
     "data": {
      "text/html": [
       "<div>\n",
       "<style scoped>\n",
       "    .dataframe tbody tr th:only-of-type {\n",
       "        vertical-align: middle;\n",
       "    }\n",
       "\n",
       "    .dataframe tbody tr th {\n",
       "        vertical-align: top;\n",
       "    }\n",
       "\n",
       "    .dataframe thead th {\n",
       "        text-align: right;\n",
       "    }\n",
       "</style>\n",
       "<table border=\"1\" class=\"dataframe\">\n",
       "  <thead>\n",
       "    <tr style=\"text-align: right;\">\n",
       "      <th></th>\n",
       "      <th>rank</th>\n",
       "      <th>country</th>\n",
       "      <th>description</th>\n",
       "      <th>name</th>\n",
       "      <th>points</th>\n",
       "      <th>price</th>\n",
       "      <th>province</th>\n",
       "      <th>region_1</th>\n",
       "      <th>region_2</th>\n",
       "      <th>taster_name</th>\n",
       "      <th>taster_twitter_handle</th>\n",
       "      <th>title</th>\n",
       "      <th>variety</th>\n",
       "      <th>winery</th>\n",
       "    </tr>\n",
       "  </thead>\n",
       "  <tbody>\n",
       "    <tr>\n",
       "      <th>0</th>\n",
       "      <td>1</td>\n",
       "      <td>Portugal</td>\n",
       "      <td>This is ripe and fruity, a wine that is smooth...</td>\n",
       "      <td>Avidagos</td>\n",
       "      <td>87</td>\n",
       "      <td>15</td>\n",
       "      <td>Douro</td>\n",
       "      <td>NaN</td>\n",
       "      <td>NaN</td>\n",
       "      <td>Roger Voss</td>\n",
       "      <td>@vossroger</td>\n",
       "      <td>Quinta dos Avidagos 2011 Avidagos Red (Douro)</td>\n",
       "      <td>Portuguese Red</td>\n",
       "      <td>Quinta dos Avidagos</td>\n",
       "    </tr>\n",
       "    <tr>\n",
       "      <th>1</th>\n",
       "      <td>2</td>\n",
       "      <td>US</td>\n",
       "      <td>Tart and snappy, the flavors of lime flesh and...</td>\n",
       "      <td>NaN</td>\n",
       "      <td>87</td>\n",
       "      <td>14</td>\n",
       "      <td>Oregon</td>\n",
       "      <td>Willamette Valley</td>\n",
       "      <td>Willamette Valley</td>\n",
       "      <td>Paul Gregutt</td>\n",
       "      <td>@paulgwine</td>\n",
       "      <td>Rainstorm 2013 Pinot Gris (Willamette Valley)</td>\n",
       "      <td>Pinot Gris</td>\n",
       "      <td>Rainstorm</td>\n",
       "    </tr>\n",
       "    <tr>\n",
       "      <th>2</th>\n",
       "      <td>3</td>\n",
       "      <td>US</td>\n",
       "      <td>Pineapple rind, lemon pith and orange blossom ...</td>\n",
       "      <td>Reserve Late Harvest</td>\n",
       "      <td>87</td>\n",
       "      <td>13</td>\n",
       "      <td>Michigan</td>\n",
       "      <td>Lake Michigan Shore</td>\n",
       "      <td>NaN</td>\n",
       "      <td>Alexander Peartree</td>\n",
       "      <td>NaN</td>\n",
       "      <td>St. Julian 2013 Reserve Late Harvest Riesling ...</td>\n",
       "      <td>Riesling</td>\n",
       "      <td>St. Julian</td>\n",
       "    </tr>\n",
       "    <tr>\n",
       "      <th>3</th>\n",
       "      <td>4</td>\n",
       "      <td>US</td>\n",
       "      <td>Much like the regular bottling from 2012, this...</td>\n",
       "      <td>Vintner's Reserve Wild Child Block</td>\n",
       "      <td>87</td>\n",
       "      <td>65</td>\n",
       "      <td>Oregon</td>\n",
       "      <td>Willamette Valley</td>\n",
       "      <td>Willamette Valley</td>\n",
       "      <td>Paul Gregutt</td>\n",
       "      <td>@paulgwine</td>\n",
       "      <td>Sweet Cheeks 2012 Vintner's Reserve Wild Child...</td>\n",
       "      <td>Pinot Noir</td>\n",
       "      <td>Sweet Cheeks</td>\n",
       "    </tr>\n",
       "    <tr>\n",
       "      <th>4</th>\n",
       "      <td>5</td>\n",
       "      <td>Spain</td>\n",
       "      <td>Blackberry and raspberry aromas show a typical...</td>\n",
       "      <td>Ars In Vitro</td>\n",
       "      <td>87</td>\n",
       "      <td>15</td>\n",
       "      <td>Northern Spain</td>\n",
       "      <td>Navarra</td>\n",
       "      <td>NaN</td>\n",
       "      <td>Michael Schachner</td>\n",
       "      <td>@wineschach</td>\n",
       "      <td>Tandem 2011 Ars In Vitro Tempranillo-Merlot (N...</td>\n",
       "      <td>Tempranillo-Merlot</td>\n",
       "      <td>Tandem</td>\n",
       "    </tr>\n",
       "  </tbody>\n",
       "</table>\n",
       "</div>"
      ],
      "text/plain": [
       "   rank   country                                        description   \n",
       "0     1  Portugal  This is ripe and fruity, a wine that is smooth...  \\\n",
       "1     2        US  Tart and snappy, the flavors of lime flesh and...   \n",
       "2     3        US  Pineapple rind, lemon pith and orange blossom ...   \n",
       "3     4        US  Much like the regular bottling from 2012, this...   \n",
       "4     5     Spain  Blackberry and raspberry aromas show a typical...   \n",
       "\n",
       "                                 name  points  price        province   \n",
       "0                            Avidagos      87     15           Douro  \\\n",
       "1                                 NaN      87     14          Oregon   \n",
       "2                Reserve Late Harvest      87     13        Michigan   \n",
       "3  Vintner's Reserve Wild Child Block      87     65          Oregon   \n",
       "4                        Ars In Vitro      87     15  Northern Spain   \n",
       "\n",
       "              region_1           region_2         taster_name   \n",
       "0                  NaN                NaN          Roger Voss  \\\n",
       "1    Willamette Valley  Willamette Valley        Paul Gregutt   \n",
       "2  Lake Michigan Shore                NaN  Alexander Peartree   \n",
       "3    Willamette Valley  Willamette Valley        Paul Gregutt   \n",
       "4              Navarra                NaN   Michael Schachner   \n",
       "\n",
       "  taster_twitter_handle                                              title   \n",
       "0            @vossroger      Quinta dos Avidagos 2011 Avidagos Red (Douro)  \\\n",
       "1           @paulgwine       Rainstorm 2013 Pinot Gris (Willamette Valley)   \n",
       "2                   NaN  St. Julian 2013 Reserve Late Harvest Riesling ...   \n",
       "3           @paulgwine   Sweet Cheeks 2012 Vintner's Reserve Wild Child...   \n",
       "4           @wineschach  Tandem 2011 Ars In Vitro Tempranillo-Merlot (N...   \n",
       "\n",
       "              variety               winery  \n",
       "0      Portuguese Red  Quinta dos Avidagos  \n",
       "1          Pinot Gris            Rainstorm  \n",
       "2            Riesling           St. Julian  \n",
       "3          Pinot Noir         Sweet Cheeks  \n",
       "4  Tempranillo-Merlot               Tandem  "
      ]
     },
     "execution_count": 132,
     "metadata": {},
     "output_type": "execute_result"
    }
   ],
   "source": [
    "df.head()"
   ]
  },
  {
   "cell_type": "code",
   "execution_count": 133,
   "metadata": {},
   "outputs": [
    {
     "data": {
      "text/plain": [
       "array(['Portugal', 'US', 'Spain', 'Italy', 'France', 'Germany',\n",
       "       'Argentina', 'Chile', 'Australia', 'Austria', 'South Africa',\n",
       "       'New Zealand', 'Israel', 'Hungary', 'Greece', 'Romania', 'Mexico',\n",
       "       'Canada', nan, 'Turkey', 'Czech Republic', 'Slovenia',\n",
       "       'Luxembourg', 'Croatia', 'Georgia', 'Uruguay', 'England',\n",
       "       'Lebanon', 'Serbia', 'Brazil', 'Moldova', 'Morocco', 'Peru',\n",
       "       'India', 'Bulgaria', 'Cyprus', 'Armenia', 'Switzerland',\n",
       "       'Bosnia and Herzegovina', 'Ukraine', 'Slovakia', 'Macedonia',\n",
       "       'China'], dtype=object)"
      ]
     },
     "execution_count": 133,
     "metadata": {},
     "output_type": "execute_result"
    }
   ],
   "source": [
    "df['country'].unique()"
   ]
  },
  {
   "cell_type": "code",
   "execution_count": 134,
   "metadata": {},
   "outputs": [
    {
     "data": {
      "text/plain": [
       "array(['Portuguese Red', 'Pinot Gris', 'Riesling', 'Pinot Noir',\n",
       "       'Tempranillo-Merlot', 'Frappato', 'Gewürztraminer',\n",
       "       'Cabernet Sauvignon', 'Chardonnay', 'Malbec', 'Tempranillo Blend',\n",
       "       'Meritage', 'Red Blend', 'White Blend', 'Merlot', \"Nero d'Avola\",\n",
       "       'Chenin Blanc', 'Sauvignon Blanc', 'Viognier-Chardonnay',\n",
       "       'Primitivo', 'Catarratto', 'Gamay', 'Inzolia', 'Petit Verdot',\n",
       "       'Monica', 'Bordeaux-style White Blend', 'Grillo', 'Sangiovese',\n",
       "       'Cabernet Franc', 'Champagne Blend', 'Bordeaux-style Red Blend',\n",
       "       'Aglianico', 'Petite Sirah', 'Carmenère', 'Albariño',\n",
       "       'Petit Manseng', 'Rosé', 'Zinfandel', 'Vernaccia', 'Rosato',\n",
       "       'Grüner Veltliner', 'Viognier', 'Vermentino', 'Grenache Blanc',\n",
       "       'Syrah', 'Nebbiolo', 'Shiraz-Cabernet Sauvignon', 'Pinot Blanc',\n",
       "       'Alsace white blend', 'Barbera', 'Rhône-style Red Blend',\n",
       "       'Portuguese White', 'Graciano', 'Tannat-Cabernet', 'Sauvignon',\n",
       "       'Torrontés', 'Prugnolo Gentile', 'G-S-M', 'Verdejo', 'Fumé Blanc',\n",
       "       'Furmint', 'Pinot Bianco', 'Bonarda', 'Shiraz', 'Montepulciano',\n",
       "       'Moscato', 'Grenache', 'Ugni Blanc-Colombard', 'Syrah-Viognier',\n",
       "       'Blaufränkisch', 'Friulano', 'Assyrtico', 'Carignan-Grenache',\n",
       "       'Savagnin', 'Cabernet Sauvignon-Syrah', 'Prosecco', 'Vignoles',\n",
       "       'Sparkling Blend', 'Muscat', 'Muscadelle', 'Shiraz-Viognier',\n",
       "       'Garganega', 'Pinot Grigio', 'Tempranillo', 'Cortese', 'Mencía',\n",
       "       'Zweigelt', 'Nerello Mascalese', 'Melon',\n",
       "       'Rhône-style White Blend', 'Vidal', 'Cannonau', 'Verdelho',\n",
       "       'Marsanne', 'Scheurebe', 'Kerner', 'Syrah-Grenache', 'Dolcetto',\n",
       "       'Vilana', 'Glera', 'Viura', 'Garnacha Tintorera', 'Pinot Nero',\n",
       "       'Pinotage', 'Sémillon', 'Pinot Noir-Gamay', 'Antão Vaz',\n",
       "       'Cabernet Sauvignon-Carmenère', 'Verdejo-Viura', 'Verduzzo',\n",
       "       'Verdicchio', 'Silvaner', 'Colombard', 'Carricante', 'Sylvaner',\n",
       "       'Fiano', 'Früburgunder', 'Sousão', 'Roussanne', 'Avesso',\n",
       "       'Cinsault', 'Chinuri', 'Tinta Miúda',\n",
       "       'Muscat Blanc à Petits Grains', 'Portuguese Sparkling',\n",
       "       'Monastrell', 'Xarel-lo', 'Greco', 'Trebbiano',\n",
       "       'Corvina, Rondinella, Molinara', 'Chenin Blanc-Chardonnay',\n",
       "       'Insolia', 'Merlot-Malbec', 'Ribolla Gialla',\n",
       "       'Cabernet Sauvignon-Merlot', 'Port', 'Weissburgunder', 'Roditis',\n",
       "       'Traminer', 'Papaskarasi', 'Tannat-Syrah', 'Marsanne-Roussanne',\n",
       "       'Charbono', 'Sangiovese Grosso', 'Merlot-Argaman', 'Prié Blanc',\n",
       "       'Sherry', 'Provence red blend', 'Zibibbo', 'Falanghina',\n",
       "       'Garnacha', 'Negroamaro', 'Mourvèdre', 'Syrah-Cabernet',\n",
       "       'Müller-Thurgau', 'Pinot Meunier', 'Cabernet Sauvignon-Sangiovese',\n",
       "       'Austrian Red Blend', 'Teroldego', 'Sagrantino', 'Tannat',\n",
       "       'Pansa Blanca', 'Muskat Ottonel', 'Sauvignon Blanc-Semillon',\n",
       "       'Claret', 'Semillon-Sauvignon Blanc', 'Bical', 'Touriga Nacional',\n",
       "       'Moscatel', 'Rosado', 'Viura-Chardonnay', 'Baga',\n",
       "       'Malvasia Bianca', 'Gelber Muskateller', 'Malbec-Merlot',\n",
       "       'Monastrell-Syrah', 'Malbec-Tannat', 'Malbec-Cabernet Franc',\n",
       "       'Refosco', 'Turbiana', 'Alvarinho', 'Agiorgitiko', 'Malagousia',\n",
       "       'Assyrtiko', 'Ruché', 'Welschriesling', 'Tinta de Toro',\n",
       "       'Cabernet Moravia', 'Rieslaner', 'Traminette', 'Chambourcin',\n",
       "       'Lambrusco di Sorbara', 'Cesanese', 'Feteasca Neagra', 'Lagrein',\n",
       "       'Tinta Fina', 'St. Laurent', 'Marsanne-Viognier',\n",
       "       'Cabernet Sauvignon-Shiraz', 'Syrah-Cabernet Sauvignon',\n",
       "       'Gewürztraminer-Riesling', 'Pugnitello', 'Cerceal',\n",
       "       'Touriga Nacional Blend', 'Tocai', 'Fernão Pires',\n",
       "       'Cabernet Franc-Cabernet Sauvignon', 'Grenache-Syrah',\n",
       "       'Seyval Blanc', 'Muscat Canelli', 'Cabernet Merlot',\n",
       "       'Tempranillo-Cabernet Sauvignon', 'Arinto',\n",
       "       'Merlot-Cabernet Franc', 'Syrah-Petite Sirah', 'Cabernet Blend',\n",
       "       'Maturana', 'Pecorino', 'Rotgipfler', 'Kinali Yapincak',\n",
       "       'Cabernet Franc-Carmenère', 'Gamay Noir', 'Sauvignon Gris',\n",
       "       'Spätburgunder', 'Picpoul', 'Vidal Blanc', 'Albanello', 'Arneis',\n",
       "       'Malvasia', 'Plavac Mali', 'Lemberger', 'Saperavi', 'Altesse',\n",
       "       'Blanc du Bois', 'Provence white blend', 'Nosiola', 'Dornfelder',\n",
       "       'Roussanne-Viognier', 'Ojaleshi', 'Godello', 'Mondeuse',\n",
       "       'Perricone', 'Pedro Ximénez', 'Auxerrois', 'Syrah-Merlot',\n",
       "       'Albana', 'Muskat', 'Lambrusco', 'Cabernet Sauvignon-Malbec',\n",
       "       'Tinto Fino', 'Malbec-Cabernet Sauvignon', 'Moschofilero',\n",
       "       'Grechetto', 'Encruzado', 'Carignano', 'Cabernet Franc-Merlot',\n",
       "       'Torbato', 'Syrah-Petit Verdot', 'Garnacha Blanca', 'Pallagrello',\n",
       "       'Morava', 'Syrah-Mourvèdre', 'Aleatico', 'Carcajolu', 'Kisi',\n",
       "       'Zierfandler', 'Shiraz-Grenache', 'Palomino', 'Magliocco',\n",
       "       'Grenache-Carignan', 'Nascetta', 'Siria', 'Malbec-Syrah',\n",
       "       'Feteascǎ Regalǎ', 'Lambrusco Grasparossa', 'Marselan',\n",
       "       'Tocai Friulano', 'Schiava', 'Alfrocheiro', 'Chardonnay-Semillon',\n",
       "       'Norton', 'Alicante Bouschet', 'Tokaji', 'Moscadello',\n",
       "       'Cabernet Sauvignon-Tempranillo', 'Carignan', 'Loureiro-Arinto',\n",
       "       'Cabernet-Syrah', 'Sauvignon Blanc-Chardonnay', 'Symphony',\n",
       "       'Edelzwicker', 'Black Muscat', 'Grenache Noir', 'Durella',\n",
       "       'Xinomavro', 'Tinto del Pais', 'Merlot-Cabernet Sauvignon',\n",
       "       'Cercial', 'Roter Veltliner', 'Johannisberg Riesling',\n",
       "       'Petite Verdot', 'Passerina', 'Valdiguié',\n",
       "       'Colombard-Sauvignon Blanc', 'Kangoun', 'Loureiro', 'Posip',\n",
       "       'Uva di Troia', 'Gros and Petit Manseng', 'Jacquère',\n",
       "       'Kalecik Karasi', 'Karasakiz', 'Mourvèdre-Syrah', 'Negrette',\n",
       "       'Zierfandler-Rotgipfler', 'Clairette', 'Aragonez', 'Raboso',\n",
       "       'País', 'Chardonnay-Viognier', 'Mauzac', 'Pinot Auxerrois',\n",
       "       'Chenin Blanc-Sauvignon Blanc', 'Diamond', 'Marzemino',\n",
       "       'Tinta Barroca', 'Chardonnay-Sauvignon Blanc', 'Castelão',\n",
       "       'Trebbiano Spoletino', 'Teran', 'Trepat', 'Freisa', 'Neuburger',\n",
       "       'Nero di Troia', 'Chasselas', 'Tinta Roriz', 'Hárslevelü',\n",
       "       'Trincadeira', 'Merlot-Tannat', 'Rkatsiteli', 'Melnik',\n",
       "       'Siegerrebe', 'Trousseau Gris', 'Grenache Blend',\n",
       "       'Austrian white blend', 'Gros Manseng', 'Portuguese Rosé',\n",
       "       'Brachetto', 'Muskateller', 'Aligoté', 'Sangiovese Cabernet',\n",
       "       'Touriga Nacional-Cabernet Sauvignon', 'Muscat Blanc', 'Argaman',\n",
       "       'Viognier-Roussanne', 'Pallagrello Bianco', 'Bobal',\n",
       "       'Malvasia Istriana', 'Cabernet Sauvignon-Cabernet Franc',\n",
       "       'Baco Noir', 'Veltliner', 'Tempranillo-Tannat', 'Morillon',\n",
       "       'Touriga Franca', 'Barbera-Nebbiolo', 'Prieto Picudo', 'Gaglioppo',\n",
       "       'Tokay', 'Piedirosso', 'Piquepoul Blanc', 'Chardonnay-Sauvignon',\n",
       "       'Tempranillo-Garnacha', 'Carmenère-Cabernet Sauvignon',\n",
       "       'Chenin Blanc-Viognier', 'Susumaniello', 'Vitovska',\n",
       "       'Orange Muscat', 'Grauburgunder', 'Carignane', 'Moscatel Roxo',\n",
       "       'Picolit', 'Nerello Cappuccio', 'Counoise', 'Macabeo', 'Mazuelo',\n",
       "       'Sauvignon-Sémillon', 'Tinta del Pais', 'Vranec', 'Corvina',\n",
       "       'Mavrud', \"Cesanese d'Affile\", 'Moscato Giallo', 'Debit', 'Verdil',\n",
       "       'Cabernet', 'Verduzzo Friulano ', 'Treixadura', 'Duras',\n",
       "       \"Loin de l'Oeil\", 'Coda di Volpe', 'Grenache-Mourvèdre',\n",
       "       'Forcallà', 'Viura-Verdejo', 'Manzoni', 'Pinot-Chardonnay',\n",
       "       'Syrah-Tempranillo', 'Cabernet Sauvignon-Barbera',\n",
       "       'Merlot-Cabernet', \"Muscat d'Alexandrie\", 'Jaen', 'Tinta del Toro',\n",
       "       'Timorasso', 'Pigato', 'Sangiovese-Cabernet Sauvignon',\n",
       "       'Shiraz-Cabernet', 'Viognier-Gewürztraminer', 'Prunelard',\n",
       "       'Sauvignon Blanc-Chenin Blanc', 'Gros Plant',\n",
       "       'Malbec-Petit Verdot', 'Colombard-Ugni Blanc', 'Sacy', 'Mansois',\n",
       "       'Grignolino', 'Garnacha-Syrah', 'Rufete', 'Tempranillo-Shiraz',\n",
       "       'Mtsvane', 'Chardonnay-Pinot Gris', 'Marawi',\n",
       "       'Chardonnay-Pinot Blanc', 'Mataro', 'Tinta Cao',\n",
       "       'Blauer Portugieser', 'Ugni Blanc', 'Groppello',\n",
       "       'Semillon-Chardonnay', 'Irsai Oliver', 'Alvarelhão', 'Poulsard',\n",
       "       'Grenache-Shiraz', 'Baga-Touriga Nacional', 'Carineña',\n",
       "       'Pignoletto', 'Muscatel', 'Mavrodaphne', 'Ciliegiolo', 'Mantonico',\n",
       "       'Viognier-Grenache Blanc', 'Cabernet Sauvignon-Merlot-Shiraz',\n",
       "       'Sciaccerellu', 'Alicante', 'Emir', 'Rosenmuskateller',\n",
       "       'Tsolikouri', 'Narince', 'Malbec-Cabernet', 'Touriga', 'Grecanico',\n",
       "       'Carmenère-Syrah', 'Madeleine Angevine', 'Mavroudi',\n",
       "       'Pinot Blanc-Pinot Noir', 'Muscat Hamburg', 'Tempranillo Blanco',\n",
       "       'Aragonês', 'Casavecchia', 'Pinot Gris-Gewürztraminer',\n",
       "       'White Riesling', 'Tinto Velasco', 'Hondarrabi Zuri', 'Nuragus',\n",
       "       'Xynisteri', 'Kadarka', 'Sauvignon Musqué', 'Roussanne-Marsanne',\n",
       "       'Incrocio Manzoni', 'Terrantez', 'Bual', 'Okuzgozu', 'Rivaner',\n",
       "       'Doña Blanca', 'Graševina', 'Lambrusco Salamino',\n",
       "       'Sangiovese-Syrah', 'Tannat-Cabernet Franc', 'Thrapsathiri',\n",
       "       'Fer Servadou', 'Mission', 'Kekfrankos', 'Cococciola',\n",
       "       'Blauburgunder', 'Tannat-Merlot', 'Marquette', 'Romorantin',\n",
       "       'Bombino Bianco', 'Verdejo-Sauvignon Blanc', 'Braucol',\n",
       "       'Malvasia-Viura', 'Savatiano', 'Cabernet Franc-Malbec',\n",
       "       'Pallagrello Nero', 'Rebula', 'Vespolina', 'Shiraz-Malbec', 'Rebo',\n",
       "       'Macabeo-Chardonnay', 'Tamjanika', 'Trousseau', 'Syrah-Malbec',\n",
       "       'Syrah-Cabernet Franc', 'Macabeo-Moscatel', 'Cariñena-Garnacha',\n",
       "       'Plyto', 'Códega do Larinho', 'Sideritis', 'Çalkarası', 'Azal',\n",
       "       'Moscatel Graúdo', 'Viosinho', 'Moschofilero-Chardonnay',\n",
       "       'Paralleda', 'Rara Neagra', 'Malvasia di Candia', 'Maria Gomes',\n",
       "       'Molinara', 'Malvar', 'Airen', 'Erbaluce', 'Muscat of Alexandria',\n",
       "       'Verdosilla', 'Abouriou', 'Pinot Noir-Syrah', 'Nielluciu',\n",
       "       'Malbec-Bonarda', 'Vespaiolo', 'Malbec-Carménère', 'Biancolella',\n",
       "       'Sauvignon Blanc-Verdejo', 'Aidani', 'Garnacha-Monastrell',\n",
       "       'Greco Bianco', 'Vinhão', 'Souzao', 'Roter Traminer',\n",
       "       'Moscatel de Alejandría', 'White Port', 'Rolle', 'Tinta Francisca',\n",
       "       'Malvasia Nera', 'Orangetraube', 'Riesling-Chardonnay', 'Žilavka',\n",
       "       'Portuguiser', 'Listán Negro', 'Pinotage-Merlot', 'Muscadine',\n",
       "       'Maria Gomes-Bical', 'Grolleau', 'Zlahtina',\n",
       "       'Syrah-Grenache-Viognier', 'Jacquez', 'Gouveio', 'Canaiolo',\n",
       "       'Carignan-Syrah', 'Bombino Nero', 'Chardonnay-Riesling',\n",
       "       'Malagouzia-Chardonnay', 'Mavrotragano', 'Bovale', 'Frankovka',\n",
       "       'Shiraz-Roussanne', 'Cabernet-Shiraz', 'Syrah-Carignan', 'Elbling',\n",
       "       'Gragnano', 'Garnacha Blend', 'Pinot Blanc-Chardonnay',\n",
       "       'Schwartzriesling', 'Bastardo', 'Vidadillo', 'Misket',\n",
       "       'Chardonnay Weissburgunder', 'Other', 'Robola', 'Merlot-Shiraz',\n",
       "       'Malagouzia', 'Sämling', 'Folle Blanche', 'Malbec Blend',\n",
       "       'Merlot-Syrah', 'Tamianka', 'Cabernet Pfeffer', 'Morio Muskat',\n",
       "       'Rabigato', 'Babić', 'Yapincak', 'Sauvignonasse',\n",
       "       'Viognier-Marsanne', 'Mandilaria', 'Meseguera',\n",
       "       'Alvarinho-Chardonnay', 'Saperavi-Merlot', 'Pinot Blanc-Viognier',\n",
       "       'Teroldego Rotaliano', 'Garnacha-Tempranillo', 'Xinisteri',\n",
       "       'Trebbiano di Lugana', 'Albarossa', 'Ryzlink Rýnský', 'Verdeca',\n",
       "       'Cabernet Sauvignon Grenache', 'Tămâioasă Românească',\n",
       "       'Black Monukka', 'Merlot-Grenache', 'Vranac', 'Tempranillo-Syrah',\n",
       "       'Chardonel', 'Silvaner-Traminer', 'Madeira Blend', 'Uvalino',\n",
       "       'Merseguera-Sauvignon Blanc', 'Cabernet-Malbec', 'Boğazkere',\n",
       "       'Gelber Traminer', 'Vermentino Nero', 'Cayuga', 'Tinta Amarela',\n",
       "       'Tinta Negra Mole', 'Moscato Rosa', 'Chelois',\n",
       "       'Sauvignon Blanc-Assyrtiko', nan, 'Muscadel', 'Shiraz-Tempranillo',\n",
       "       'Roussanne-Grenache Blanc', 'Biancale', 'Ansonica',\n",
       "       'Syrah-Bonarda', 'Durif', 'Roviello', 'Franconia',\n",
       "       'Malbec-Tempranillo', 'Nasco', 'Monastrell-Petit Verdot', 'Sirica',\n",
       "       'Apple', 'Pinot Grigio-Sauvignon Blanc', 'Blatina', 'Karalahna',\n",
       "       'Feteasca', 'Sercial', 'Valvin Muscat', 'Malvasia Fina',\n",
       "       'Roditis-Moschofilero', 'St. Vincent', 'Chancellor', 'Premsal',\n",
       "       'Jampal', 'Tokay Pinot Gris', 'Colorino', 'Picapoll', 'Blauburger',\n",
       "       'Tinta Madeira', 'Centesimino', 'Grenache Gris', 'Trajadura',\n",
       "       'Merlot-Petite Verdot', 'Ramisco', 'Catalanesca',\n",
       "       'Garnacha-Cabernet', 'Garnacha-Cariñena', 'Gamza',\n",
       "       'Cabernet Franc-Lemberger', 'Chardonnay-Albariño',\n",
       "       'Shiraz-Mourvèdre', 'Mavrokalavryta', 'Favorita', 'Babosa Negro',\n",
       "       'Tintilia ', 'Dafni', 'Petit Courbu', 'Kotsifali', 'Parraleta',\n",
       "       'Moscato di Noto', 'Torontel', 'Otskhanuri Sapere',\n",
       "       'Viognier-Valdiguié', 'Trollinger', 'Tsapournakos', 'Francisa',\n",
       "       'Kuntra', 'Pignolo', 'Asprinio', 'Caprettone', 'Ondenc', 'Athiri',\n",
       "       'Bobal-Cabernet Sauvignon'], dtype=object)"
      ]
     },
     "execution_count": 134,
     "metadata": {},
     "output_type": "execute_result"
    }
   ],
   "source": [
    "df['variety'].unique()"
   ]
  },
  {
   "cell_type": "code",
   "execution_count": 135,
   "metadata": {},
   "outputs": [
    {
     "data": {
      "text/plain": [
       "86197"
      ]
     },
     "execution_count": 135,
     "metadata": {},
     "output_type": "execute_result"
    }
   ],
   "source": [
    "df['name'].count()"
   ]
  },
  {
   "cell_type": "code",
   "execution_count": 136,
   "metadata": {},
   "outputs": [
    {
     "data": {
      "text/plain": [
       "88.42188055383343"
      ]
     },
     "execution_count": 136,
     "metadata": {},
     "output_type": "execute_result"
    }
   ],
   "source": [
    "df['points'].mean()"
   ]
  },
  {
   "cell_type": "code",
   "execution_count": 137,
   "metadata": {},
   "outputs": [
    {
     "data": {
      "text/plain": [
       "3300"
      ]
     },
     "execution_count": 137,
     "metadata": {},
     "output_type": "execute_result"
    }
   ],
   "source": [
    "df['price'].max()"
   ]
  },
  {
   "cell_type": "code",
   "execution_count": 138,
   "metadata": {},
   "outputs": [
    {
     "data": {
      "text/plain": [
       "4"
      ]
     },
     "execution_count": 138,
     "metadata": {},
     "output_type": "execute_result"
    }
   ],
   "source": [
    "df['price'].min()"
   ]
  },
  {
   "cell_type": "code",
   "execution_count": 139,
   "metadata": {},
   "outputs": [
    {
     "data": {
      "image/png": "[encoded data removed]",
      "text/plain": [
       "<Figure size 640x480 with 1 Axes>"
      ]
     },
     "metadata": {},
     "output_type": "display_data"
    }
   ],
   "source": [
    "price = df['price']\n",
    "sns.scatterplot(data=price)\n",
    "sns.scatterplot(data=price, color='green', linestyle='--', linewidth=2.5)\n",
    "plt.show()"
   ]
  },
  {
   "attachments": {},
   "cell_type": "markdown",
   "metadata": {},
   "source": [
    "## We can see from this graph that the overwheming majority of prices of wine is under $500 and there are some clear outliers which may cause some variation when doing statistical analysis, a histogram with the dataset as it is would have shown one giant line in the very first bin, making it hard to make an inference about the data's distribution"
   ]
  },
  {
   "cell_type": "code",
   "execution_count": 140,
   "metadata": {},
   "outputs": [
    {
     "data": {
      "text/plain": [
       "Text(0.5, 1.0, 'Average Points Histogram')"
      ]
     },
     "execution_count": 140,
     "metadata": {},
     "output_type": "execute_result"
    },
    {
     "data": {
      "image/png": "[encoded data removed]",
      "text/plain": [
       "<Figure size 640x480 with 1 Axes>"
      ]
     },
     "metadata": {},
     "output_type": "display_data"
    }
   ],
   "source": [
    "points = df['points']\n",
    "plt.hist(points)\n",
    "plt.xlabel('Average Points')\n",
    "plt.ylabel(\"Number of Brands/Company in Bin\")\n",
    "plt.title('Average Points Histogram')"
   ]
  },
  {
   "attachments": {},
   "cell_type": "markdown",
   "metadata": {},
   "source": [
    "## From this histogram we can see that the distribution of points is in a normal distbution - bell-shaped which is what we are looking for"
   ]
  },
  {
   "attachments": {},
   "cell_type": "markdown",
   "metadata": {},
   "source": [
    "## Some data analysis"
   ]
  },
  {
   "cell_type": "code",
   "execution_count": 141,
   "metadata": {},
   "outputs": [
    {
     "data": {
      "text/plain": [
       "country\n",
       "Argentina                 86.710330\n",
       "Armenia                   87.500000\n",
       "Australia                 88.595466\n",
       "Austria                   90.190782\n",
       "Bosnia and Herzegovina    86.500000\n",
       "Brazil                    84.659574\n",
       "Bulgaria                  87.936170\n",
       "Canada                    89.377953\n",
       "Chile                     86.495471\n",
       "China                     89.000000\n",
       "Croatia                   87.352113\n",
       "Cyprus                    87.181818\n",
       "Czech Republic            87.250000\n",
       "England                   91.550725\n",
       "France                    88.734867\n",
       "Georgia                   87.678571\n",
       "Germany                   89.836321\n",
       "Greece                    87.288503\n",
       "Hungary                   89.165517\n",
       "India                     90.222222\n",
       "Israel                    88.496933\n",
       "Italy                     88.618186\n",
       "Lebanon                   87.685714\n",
       "Luxembourg                88.666667\n",
       "Macedonia                 86.833333\n",
       "Mexico                    85.257143\n",
       "Moldova                   87.203390\n",
       "Morocco                   88.571429\n",
       "New Zealand               88.308418\n",
       "Peru                      83.562500\n",
       "Portugal                  88.316718\n",
       "Romania                   86.400000\n",
       "Serbia                    87.500000\n",
       "Slovakia                  87.000000\n",
       "Slovenia                  88.012500\n",
       "South Africa              87.831400\n",
       "Spain                     87.290735\n",
       "Switzerland               88.571429\n",
       "Turkey                    88.088889\n",
       "US                        88.566387\n",
       "Ukraine                   84.071429\n",
       "Uruguay                   86.752294\n",
       "Name: points, dtype: float64"
      ]
     },
     "execution_count": 141,
     "metadata": {},
     "output_type": "execute_result"
    }
   ],
   "source": [
    "avg_points = df.groupby('country')['points'].mean()\n",
    "avg_points"
   ]
  },
  {
   "cell_type": "code",
   "execution_count": 142,
   "metadata": {},
   "outputs": [
    {
     "data": {
      "text/plain": [
       "'England'"
      ]
     },
     "execution_count": 142,
     "metadata": {},
     "output_type": "execute_result"
    }
   ],
   "source": [
    "highestavg = avg_points.idxmax()\n",
    "highestavg"
   ]
  },
  {
   "attachments": {},
   "cell_type": "markdown",
   "metadata": {},
   "source": [
    "## England has the highest ratings by country which is suprising as most would have thought it would have been France or Italy or maybe even dozen or so other countries before England. Perhaps England does not appear a lot in the data. which can skew its ranking."
   ]
  },
  {
   "cell_type": "code",
   "execution_count": 143,
   "metadata": {},
   "outputs": [
    {
     "data": {
      "text/plain": [
       "province\n",
       "Achaia                        37\n",
       "Aconcagua Costa               95\n",
       "Aconcagua Valley             235\n",
       "Aegean                       120\n",
       "Agioritikos                   25\n",
       "                            ... \n",
       "Zenata                        18\n",
       "Österreichischer Perlwein     21\n",
       "Österreichischer Sekt         55\n",
       "Štajerska                     31\n",
       "Župa                          42\n",
       "Name: price, Length: 422, dtype: int64"
      ]
     },
     "execution_count": 143,
     "metadata": {},
     "output_type": "execute_result"
    }
   ],
   "source": [
    "highestbyprovince = df.groupby('province')['price'].max()\n",
    "highestbyprovince"
   ]
  },
  {
   "cell_type": "code",
   "execution_count": 144,
   "metadata": {},
   "outputs": [
    {
     "data": {
      "text/plain": [
       "'Bordeaux'"
      ]
     },
     "execution_count": 144,
     "metadata": {},
     "output_type": "execute_result"
    }
   ],
   "source": [
    "highestprovince = highestbyprovince.idxmax()\n",
    "highestprovince"
   ]
  },
  {
   "attachments": {},
   "cell_type": "markdown",
   "metadata": {},
   "source": [
    "## The highest rated wine-making province is Bordeaux, which is in France. Bordeaux is located in southeastern France and is on the coast of the Atlantic Ocean."
   ]
  },
  {
   "cell_type": "code",
   "execution_count": 145,
   "metadata": {},
   "outputs": [
    {
     "data": {
      "text/plain": [
       "name\n",
       "Barca-Velha                            100.0\n",
       "Cerretalto                             100.0\n",
       "Cristal Vintage Brut                   100.0\n",
       "Barca Velha                             99.0\n",
       "Clos du Mesnil Brut Blanc de Blancs     99.0\n",
       "Cuvée Constance 500ml                   99.0\n",
       "Cà d'Morissio Riserva                   99.0\n",
       "Elevation 1147 Estate                   99.0\n",
       "Nacional Vintage                        99.0\n",
       "Sorì Tildìn                             99.0\n",
       "Name: points, dtype: float64"
      ]
     },
     "execution_count": 145,
     "metadata": {},
     "output_type": "execute_result"
    }
   ],
   "source": [
    "top10avgpoints = df.groupby('name')['points'].mean().nlargest(10)\n",
    "top10avgpoints"
   ]
  },
  {
   "cell_type": "code",
   "execution_count": 146,
   "metadata": {},
   "outputs": [
    {
     "data": {
      "text/plain": [
       "variety\n",
       "Pinot Noir                  12787\n",
       "Chardonnay                  11080\n",
       "Cabernet Sauvignon           9386\n",
       "Red Blend                    8476\n",
       "Bordeaux-style Red Blend     5340\n",
       "Riesling                     4972\n",
       "Sauvignon Blanc              4783\n",
       "Syrah                        4086\n",
       "Rosé                         3262\n",
       "Merlot                       3062\n",
       "Name: count, dtype: int64"
      ]
     },
     "execution_count": 146,
     "metadata": {},
     "output_type": "execute_result"
    }
   ],
   "source": [
    "top_brandsvalue = df['variety'].value_counts().nlargest(10)\n",
    "top_brandsvalue"
   ]
  },
  {
   "cell_type": "code",
   "execution_count": 147,
   "metadata": {},
   "outputs": [
    {
     "data": {
      "text/plain": [
       "47.528896535543915"
      ]
     },
     "execution_count": 147,
     "metadata": {},
     "output_type": "execute_result"
    }
   ],
   "source": [
    "df[df['variety']=='Pinot Noir']['price'].mean()"
   ]
  },
  {
   "cell_type": "code",
   "execution_count": 148,
   "metadata": {},
   "outputs": [
    {
     "data": {
      "text/plain": [
       "winery\n",
       "Château les Ormes Sorbet         3300.000000\n",
       "Château Pétrus                   2250.000000\n",
       "Domaine du Comte Liger-Belair    1488.750000\n",
       "Château Cheval Blanc              825.000000\n",
       "Château d'Yquem                   800.000000\n",
       "Masseto                           587.500000\n",
       "Château Laville Haut-Brion        580.000000\n",
       "Château Haut-Brion                571.700000\n",
       "Château La Mission Haut-Brion     545.750000\n",
       "Château Ausone                    506.666667\n",
       "Name: price, dtype: float64"
      ]
     },
     "execution_count": 148,
     "metadata": {},
     "output_type": "execute_result"
    }
   ],
   "source": [
    "df.groupby('winery')['price'].mean().nlargest(10)"
   ]
  },
  {
   "attachments": {},
   "cell_type": "markdown",
   "metadata": {},
   "source": [
    "## Now for two graphs showing the mean price of wine and the mean points/ratings of selected countries. Most selected countries are known for their wine-making, although I did pick some countries like China to include all continents."
   ]
  },
  {
   "cell_type": "code",
   "execution_count": 149,
   "metadata": {},
   "outputs": [],
   "source": [
    "USA = df[df['country']=='US']['price'].mean()\n",
    "FRA = df[df['country']=='France']['price'].mean()\n",
    "ARG = df[df['country']=='Argentina']['price'].mean()\n",
    "ITA = df[df['country']=='Italy']['price'].mean()\n",
    "AUS = df[df['country']=='Australia']['price'].mean()\n",
    "SPA = df[df['country']=='Spain']['price'].mean()\n",
    "LEB = df[df['country']=='Lebanon']['price'].mean()\n",
    "POR = df[df['country']=='Portugal']['price'].mean()\n",
    "SAF = df[df['country']=='South Africa']['price'].mean()\n",
    "CHN = df[df['country']=='China']['price'].mean()"
   ]
  },
  {
   "cell_type": "code",
   "execution_count": 150,
   "metadata": {},
   "outputs": [
    {
     "data": {
      "image/png": "[encoded data removed]",
      "text/plain": [
       "<Figure size 640x480 with 1 Axes>"
      ]
     },
     "metadata": {},
     "output_type": "display_data"
    }
   ],
   "source": [
    "countries = ['US','France','Argentina','Italy','Australia','Spain','Lebanon','Portgual','South Africa','China']\n",
    "mean_price = [USA,FRA,ARG,ITA,AUS,SPA,LEB,POR,SAF,CHN]\n",
    "colors = ['purple', 'goldenrod']\n",
    "color_indices = np.arange(len(countries)) % len(colors)\n",
    "plt.bar(countries,mean_price, color=[colors[i] for i in color_indices])\n",
    "plt.xticks(rotation=45)\n",
    "plt.xlabel('Country')\n",
    "plt.ylabel('Mean Price of Wine')\n",
    "plt.title('Mean Price of Wine by Selected Country')\n",
    "plt.tight_layout()"
   ]
  },
  {
   "attachments": {},
   "cell_type": "markdown",
   "metadata": {},
   "source": [
    "## France and Italy are the top two countries when it comes to the mean price of wine"
   ]
  },
  {
   "cell_type": "code",
   "execution_count": 151,
   "metadata": {},
   "outputs": [],
   "source": [
    "USA = df[df['country']=='US']['points'].mean()\n",
    "FRA = df[df['country']=='France']['points'].mean()\n",
    "ARG = df[df['country']=='Argentina']['points'].mean()\n",
    "ITA = df[df['country']=='Italy']['points'].mean()\n",
    "AUS = df[df['country']=='Australia']['points'].mean()\n",
    "SPA = df[df['country']=='Spain']['points'].mean()\n",
    "LEB = df[df['country']=='Lebanon']['points'].mean()\n",
    "POR = df[df['country']=='Portugal']['points'].mean()\n",
    "SAF = df[df['country']=='South Africa']['points'].mean()\n",
    "CHN = df[df['country']=='China']['points'].mean()"
   ]
  },
  {
   "cell_type": "code",
   "execution_count": 152,
   "metadata": {},
   "outputs": [
    {
     "data": {
      "image/png": "[encoded data removed]",
      "text/plain": [
       "<Figure size 640x480 with 1 Axes>"
      ]
     },
     "metadata": {},
     "output_type": "display_data"
    }
   ],
   "source": [
    "countries = countries = ['USA','France','Argentina','Italy','Australia','Spain','Lebanon','Portgual','South Africa','China']\n",
    "points = [USA,FRA,ARG,ITA,AUS,SPA,LEB,POR,SAF,CHN]\n",
    "colors = ['blue','red']\n",
    "color_indices = np.arange(len(countries)) % len(colors)\n",
    "plt.bar(countries,points, color=[colors[i] for i in color_indices])\n",
    "plt.xticks(rotation=45)\n",
    "plt.ylim(80, 91)\n",
    "plt.xlabel('Country')\n",
    "plt.ylabel('Average Rating of Wine (out of 100)')\n",
    "plt.title('Average Rating of Wine by Selected Country (out of 100)')\n",
    "plt.tight_layout()\n"
   ]
  },
  {
   "attachments": {},
   "cell_type": "markdown",
   "metadata": {},
   "source": [
    "## Here the average ratings are really not that far off from each other. The ratings are on a scale from 0-100, 100 being the highest. It really looks like the average rating of wine does not appear to effect the price of wine by much. As shown from the previous graph, China has the lowest mean price of wine out of the selected country, but at the same time has the highest average rating, that is very interesting to me."
   ]
  },
  {
   "attachments": {},
   "cell_type": "markdown",
   "metadata": {},
   "source": [
    "## Next we will do some correlation and statistical analysis between the price of wine and the points/ratings of wine. The price will be the dependent variable and the points variable will be independent/predictor variable because what I think really matters to most to us is the price of wine really impacted by how high its ratings are."
   ]
  },
  {
   "cell_type": "code",
   "execution_count": 153,
   "metadata": {},
   "outputs": [
    {
     "data": {
      "text/plain": [
       "0.4161667418606219"
      ]
     },
     "execution_count": 153,
     "metadata": {},
     "output_type": "execute_result"
    }
   ],
   "source": [
    "x = df['points']\n",
    "y = df['price']\n",
    "correlation = x.corr(y)\n",
    "correlation"
   ]
  },
  {
   "attachments": {},
   "cell_type": "markdown",
   "metadata": {},
   "source": [
    "## A correlation of .41 shows a somewhat weak to moderate positive relationship between the price of wine and the ratings of wine, in other words, as the price of wine changes, 41% of the movement can be explained by changes in the ratings of wine, in the same direction. Meaning increases in ratings tend to bring increases in prices and vice versa for negative values. More statistical analysis will be done to further investigate the relationship between the two variables as correlation does not equal causation"
   ]
  },
  {
   "cell_type": "code",
   "execution_count": 154,
   "metadata": {},
   "outputs": [],
   "source": [
    "from sklearn.linear_model import LinearRegression\n",
    "import statsmodels.api as sm\n",
    "x = x.values.reshape(-1,1)\n",
    "y = y.values.reshape(-1,1)"
   ]
  },
  {
   "cell_type": "code",
   "execution_count": 155,
   "metadata": {},
   "outputs": [
    {
     "data": {
      "text/html": [
       "<table class=\"simpletable\">\n",
       "<caption>OLS Regression Results</caption>\n",
       "<tr>\n",
       "  <th>Dep. Variable:</th>            <td>y</td>        <th>  R-squared:         </th>  <td>   0.173</td>  \n",
       "</tr>\n",
       "<tr>\n",
       "  <th>Model:</th>                   <td>OLS</td>       <th>  Adj. R-squared:    </th>  <td>   0.173</td>  \n",
       "</tr>\n",
       "<tr>\n",
       "  <th>Method:</th>             <td>Least Squares</td>  <th>  F-statistic:       </th>  <td>2.534e+04</td> \n",
       "</tr>\n",
       "<tr>\n",
       "  <th>Date:</th>             <td>Sun, 28 May 2023</td> <th>  Prob (F-statistic):</th>   <td>  0.00</td>   \n",
       "</tr>\n",
       "<tr>\n",
       "  <th>Time:</th>                 <td>21:59:49</td>     <th>  Log-Likelihood:    </th> <td>-6.0947e+05</td>\n",
       "</tr>\n",
       "<tr>\n",
       "  <th>No. Observations:</th>      <td>120975</td>      <th>  AIC:               </th>  <td>1.219e+06</td> \n",
       "</tr>\n",
       "<tr>\n",
       "  <th>Df Residuals:</th>          <td>120973</td>      <th>  BIC:               </th>  <td>1.219e+06</td> \n",
       "</tr>\n",
       "<tr>\n",
       "  <th>Df Model:</th>              <td>     1</td>      <th>                     </th>      <td> </td>     \n",
       "</tr>\n",
       "<tr>\n",
       "  <th>Covariance Type:</th>      <td>nonrobust</td>    <th>                     </th>      <td> </td>     \n",
       "</tr>\n",
       "</table>\n",
       "<table class=\"simpletable\">\n",
       "<tr>\n",
       "    <td></td>       <th>coef</th>     <th>std err</th>      <th>t</th>      <th>P>|t|</th>  <th>[0.025</th>    <th>0.975]</th>  \n",
       "</tr>\n",
       "<tr>\n",
       "  <th>const</th> <td> -460.4624</td> <td>    3.117</td> <td> -147.747</td> <td> 0.000</td> <td> -466.571</td> <td> -454.354</td>\n",
       "</tr>\n",
       "<tr>\n",
       "  <th>x1</th>    <td>    5.6075</td> <td>    0.035</td> <td>  159.188</td> <td> 0.000</td> <td>    5.538</td> <td>    5.677</td>\n",
       "</tr>\n",
       "</table>\n",
       "<table class=\"simpletable\">\n",
       "<tr>\n",
       "  <th>Omnibus:</th>       <td>276496.253</td> <th>  Durbin-Watson:     </th>    <td>   1.696</td>   \n",
       "</tr>\n",
       "<tr>\n",
       "  <th>Prob(Omnibus):</th>   <td> 0.000</td>   <th>  Jarque-Bera (JB):  </th> <td>6580756208.908</td>\n",
       "</tr>\n",
       "<tr>\n",
       "  <th>Skew:</th>            <td>21.619</td>   <th>  Prob(JB):          </th>    <td>    0.00</td>   \n",
       "</tr>\n",
       "<tr>\n",
       "  <th>Kurtosis:</th>       <td>1144.785</td>  <th>  Cond. No.          </th>    <td>2.57e+03</td>   \n",
       "</tr>\n",
       "</table><br/><br/>Notes:<br/>[1] Standard Errors assume that the covariance matrix of the errors is correctly specified.<br/>[2] The condition number is large, 2.57e+03. This might indicate that there are<br/>strong multicollinearity or other numerical problems."
      ],
      "text/latex": [
       "\\begin{center}\n",
       "\\begin{tabular}{lclc}\n",
       "\\toprule\n",
       "\\textbf{Dep. Variable:}    &        y         & \\textbf{  R-squared:         } &       0.173     \\\\\n",
       "\\textbf{Model:}            &       OLS        & \\textbf{  Adj. R-squared:    } &       0.173     \\\\\n",
       "\\textbf{Method:}           &  Least Squares   & \\textbf{  F-statistic:       } &   2.534e+04     \\\\\n",
       "\\textbf{Date:}             & Sun, 28 May 2023 & \\textbf{  Prob (F-statistic):} &       0.00      \\\\\n",
       "\\textbf{Time:}             &     21:59:49     & \\textbf{  Log-Likelihood:    } &  -6.0947e+05    \\\\\n",
       "\\textbf{No. Observations:} &      120975      & \\textbf{  AIC:               } &   1.219e+06     \\\\\n",
       "\\textbf{Df Residuals:}     &      120973      & \\textbf{  BIC:               } &   1.219e+06     \\\\\n",
       "\\textbf{Df Model:}         &           1      & \\textbf{                     } &                 \\\\\n",
       "\\textbf{Covariance Type:}  &    nonrobust     & \\textbf{                     } &                 \\\\\n",
       "\\bottomrule\n",
       "\\end{tabular}\n",
       "\\begin{tabular}{lcccccc}\n",
       "               & \\textbf{coef} & \\textbf{std err} & \\textbf{t} & \\textbf{P$> |$t$|$} & \\textbf{[0.025} & \\textbf{0.975]}  \\\\\n",
       "\\midrule\n",
       "\\textbf{const} &    -460.4624  &        3.117     &  -147.747  &         0.000        &     -466.571    &     -454.354     \\\\\n",
       "\\textbf{x1}    &       5.6075  &        0.035     &   159.188  &         0.000        &        5.538    &        5.677     \\\\\n",
       "\\bottomrule\n",
       "\\end{tabular}\n",
       "\\begin{tabular}{lclc}\n",
       "\\textbf{Omnibus:}       & 276496.253 & \\textbf{  Durbin-Watson:     } &       1.696     \\\\\n",
       "\\textbf{Prob(Omnibus):} &    0.000   & \\textbf{  Jarque-Bera (JB):  } & 6580756208.908  \\\\\n",
       "\\textbf{Skew:}          &   21.619   & \\textbf{  Prob(JB):          } &        0.00     \\\\\n",
       "\\textbf{Kurtosis:}      &  1144.785  & \\textbf{  Cond. No.          } &    2.57e+03     \\\\\n",
       "\\bottomrule\n",
       "\\end{tabular}\n",
       "%\\caption{OLS Regression Results}\n",
       "\\end{center}\n",
       "\n",
       "Notes: \\newline\n",
       " [1] Standard Errors assume that the covariance matrix of the errors is correctly specified. \\newline\n",
       " [2] The condition number is large, 2.57e+03. This might indicate that there are \\newline\n",
       " strong multicollinearity or other numerical problems."
      ],
      "text/plain": [
       "<class 'statsmodels.iolib.summary.Summary'>\n",
       "\"\"\"\n",
       "                            OLS Regression Results                            \n",
       "==============================================================================\n",
       "Dep. Variable:                      y   R-squared:                       0.173\n",
       "Model:                            OLS   Adj. R-squared:                  0.173\n",
       "Method:                 Least Squares   F-statistic:                 2.534e+04\n",
       "Date:                Sun, 28 May 2023   Prob (F-statistic):               0.00\n",
       "Time:                        21:59:49   Log-Likelihood:            -6.0947e+05\n",
       "No. Observations:              120975   AIC:                         1.219e+06\n",
       "Df Residuals:                  120973   BIC:                         1.219e+06\n",
       "Df Model:                           1                                         \n",
       "Covariance Type:            nonrobust                                         \n",
       "==============================================================================\n",
       "                 coef    std err          t      P>|t|      [0.025      0.975]\n",
       "------------------------------------------------------------------------------\n",
       "const       -460.4624      3.117   -147.747      0.000    -466.571    -454.354\n",
       "x1             5.6075      0.035    159.188      0.000       5.538       5.677\n",
       "==============================================================================\n",
       "Omnibus:                   276496.253   Durbin-Watson:                   1.696\n",
       "Prob(Omnibus):                  0.000   Jarque-Bera (JB):       6580756208.908\n",
       "Skew:                          21.619   Prob(JB):                         0.00\n",
       "Kurtosis:                    1144.785   Cond. No.                     2.57e+03\n",
       "==============================================================================\n",
       "\n",
       "Notes:\n",
       "[1] Standard Errors assume that the covariance matrix of the errors is correctly specified.\n",
       "[2] The condition number is large, 2.57e+03. This might indicate that there are\n",
       "strong multicollinearity or other numerical problems.\n",
       "\"\"\""
      ]
     },
     "execution_count": 155,
     "metadata": {},
     "output_type": "execute_result"
    }
   ],
   "source": [
    "model = LinearRegression()\n",
    "model.fit(x,y)\n",
    "x = sm.add_constant(x)\n",
    "model = sm.OLS(y,x)\n",
    "results = model.fit()\n",
    "results.summary()"
   ]
  },
  {
   "attachments": {},
   "cell_type": "markdown",
   "metadata": {},
   "source": [
    "## After making a simple Linear Regression model the results showed a R-Squared of .173, p-value of less than .000 and an t-stat of -147.747, we can conclude that that only a very weak to almost no positive relationship between the price of wine and the rating of wine. Only 17.3% (R-Sqaured) of the variation in values of ratings of wine can be explained by variation in the changes in the price of wine, and with a p-value of a value under .000 and a t-stat of -147.747 we can also conclude that this result is also statistically significant. From what we can gather from the regression analysis and the correlation analysis, the ratings of wine do ever so smally impact the price of wine postively, however, it is clear there are other factors that figure into the price of wine, some which might not be able to be possible to capture from statistcial analysis such as the international prestige of a country or a province's wine making ability which can drive the price and ratings up or down or indvidual's personal preference of wine which may skew ratings as well. Or perhaps the outliers that I mentioned earlier might be causing more skew. Who know's what the answer is, but from these two variables we can conclude that they do not share a very strong relationship."
   ]
  },
  {
   "attachments": {},
   "cell_type": "markdown",
   "metadata": {},
   "source": []
  }
 ],
 "metadata": {
  "kernelspec": {
   "display_name": "conda_env_name",
   "language": "python",
   "name": "conda_env_name"
  },
  "language_info": {
   "codemirror_mode": {
    "name": "ipython",
    "version": 3
   },
   "file_extension": ".py",
   "mimetype": "text/x-python",
   "name": "python",
   "nbconvert_exporter": "python",
   "pygments_lexer": "ipython3",
   "version": "3.11.3"
  },
  "orig_nbformat": 4
 },
 "nbformat": 4,
 "nbformat_minor": 2
}
