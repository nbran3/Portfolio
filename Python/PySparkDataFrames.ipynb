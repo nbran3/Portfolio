{
 "cells": [
  {
   "cell_type": "markdown",
   "metadata": {},
   "source": [
    "# PySpark Dataframes\n",
    "For each instruction, type the appropriate code into the cell below the instruction. Then, run the code by pressing the `Run` button above.\n",
    "\n",
    "1. Import the SparkSession class:\n",
    "\n",
    "```\n",
    "from pyspark.sql import SparkSession\n",
    "```"
   ]
  },
  {
   "cell_type": "code",
   "execution_count": 1,
   "metadata": {},
   "outputs": [],
   "source": [
    "from pyspark.sql import SparkSession"
   ]
  },
  {
   "cell_type": "markdown",
   "metadata": {},
   "source": [
    "2. Use this class to instiate a Spark session:\n",
    "\n",
    "```\n",
    "spark = SparkSession \\\n",
    "    .builder \\\n",
    "    .appName(\"My First PySpark App\") \\\n",
    "    .getOrCreate()\n",
    "```"
   ]
  },
  {
   "cell_type": "code",
   "execution_count": 4,
   "metadata": {},
   "outputs": [],
   "source": [
    "spark = SparkSession \\\n",
    "    .builder \\\n",
    "    .appName(\"My First PySpark App\") \\\n",
    "    .getOrCreate()"
   ]
  },
  {
   "cell_type": "markdown",
   "metadata": {},
   "source": [
    "3. Take a look at the session object:\n",
    "\n",
    "```\n",
    "spark\n",
    "```"
   ]
  },
  {
   "cell_type": "code",
   "execution_count": 6,
   "metadata": {},
   "outputs": [
    {
     "data": {
      "text/html": [
       "\n",
       "            <div>\n",
       "                <p><b>SparkSession - in-memory</b></p>\n",
       "                \n",
       "        <div>\n",
       "            <p><b>SparkContext</b></p>\n",
       "\n",
       "            <p><a href=\"http://19928c13ff8a:4041\">Spark UI</a></p>\n",
       "\n",
       "            <dl>\n",
       "              <dt>Version</dt>\n",
       "                <dd><code>v3.3.0</code></dd>\n",
       "              <dt>Master</dt>\n",
       "                <dd><code>local[*]</code></dd>\n",
       "              <dt>AppName</dt>\n",
       "                <dd><code>My First PySpark App</code></dd>\n",
       "            </dl>\n",
       "        </div>\n",
       "        \n",
       "            </div>\n",
       "        "
      ],
      "text/plain": [
       "<pyspark.sql.session.SparkSession at 0x7f2ba0ad9550>"
      ]
     },
     "execution_count": 6,
     "metadata": {},
     "output_type": "execute_result"
    }
   ],
   "source": [
    "spark"
   ]
  },
  {
   "cell_type": "markdown",
   "metadata": {},
   "source": [
    "4. Read the contents of a csv file into a Dataframe named 'accounts':\n",
    "\n",
    "```\n",
    "accounts = spark.read.option('header', 'true').csv('./data/accounts.csv')\n",
    "```"
   ]
  },
  {
   "cell_type": "code",
   "execution_count": 8,
   "metadata": {},
   "outputs": [],
   "source": [
    "accounts = spark.read.option('header', 'true').csv('./data/accounts.csv')"
   ]
  },
  {
   "cell_type": "markdown",
   "metadata": {},
   "source": [
    "5. Take a look at the Dataframe's schema:\n",
    "\n",
    "```\n",
    "accounts.printSchema()\n",
    "```"
   ]
  },
  {
   "cell_type": "code",
   "execution_count": 9,
   "metadata": {},
   "outputs": [
    {
     "name": "stdout",
     "output_type": "stream",
     "text": [
      "root\n",
      " |-- account_number: string (nullable = true)\n",
      " |-- aba: string (nullable = true)\n",
      " |-- bic: string (nullable = true)\n",
      " |-- opened: string (nullable = true)\n",
      " |-- balance: string (nullable = true)\n",
      "\n"
     ]
    }
   ],
   "source": [
    "accounts.printSchema()"
   ]
  },
  {
   "cell_type": "markdown",
   "metadata": {},
   "source": [
    "6. Read the contents of a parquet file into a variable:\n",
    "```\n",
    "transactions = spark.read.option('header', True).parquet('./data/transactions.parquet')\n",
    "```"
   ]
  },
  {
   "cell_type": "code",
   "execution_count": 11,
   "metadata": {},
   "outputs": [],
   "source": [
    "transactions = spark.read.option('header', True).parquet('./data/transactions.parquet')"
   ]
  },
  {
   "cell_type": "markdown",
   "metadata": {},
   "source": [
    "7. See how many rows are in the new Dataframe:\n",
    "```\n",
    "transactions.count()\n",
    "```"
   ]
  },
  {
   "cell_type": "code",
   "execution_count": 12,
   "metadata": {},
   "outputs": [
    {
     "data": {
      "text/plain": [
       "1000000"
      ]
     },
     "execution_count": 12,
     "metadata": {},
     "output_type": "execute_result"
    }
   ],
   "source": [
    "transactions.count()"
   ]
  },
  {
   "cell_type": "markdown",
   "metadata": {},
   "source": [
    "8. Make a new Dataframe by grouping the transactions by account number and summing the groups. This will combine the transactions per account:\n",
    "\n",
    "```\n",
    "account_transactions = transactions.groupby('account_number').sum()\n",
    "```"
   ]
  },
  {
   "cell_type": "code",
   "execution_count": 18,
   "metadata": {},
   "outputs": [],
   "source": [
    "account_transactions = transactions.groupby('account_number').sum()"
   ]
  },
  {
   "cell_type": "markdown",
   "metadata": {},
   "source": [
    "9. Combine the accounts with the summed transaction values:\n",
    "\n",
    "```\n",
    "with_sum = accounts.join(account_transactions, 'account_number', 'inner')\n",
    "```"
   ]
  },
  {
   "cell_type": "code",
   "execution_count": 19,
   "metadata": {},
   "outputs": [],
   "source": [
    "with_sum = accounts.join(account_transactions, 'account_number', 'inner')"
   ]
  },
  {
   "cell_type": "markdown",
   "metadata": {},
   "source": [
    "10. Get the current balance per account by summing the transaction sums with the initial account balance:\n",
    "\n",
    "```\n",
    "accounts = with_sum.withColumn('new_balance', sum([with_sum.balance, with_sum['sum(amount)']]))\n",
    "```"
   ]
  },
  {
   "cell_type": "code",
   "execution_count": 20,
   "metadata": {},
   "outputs": [],
   "source": [
    "accounts = with_sum.withColumn('new_balance', sum([with_sum.balance, with_sum['sum(amount)']]))"
   ]
  },
  {
   "cell_type": "markdown",
   "metadata": {},
   "source": [
    "11. Get accounts with negative current balances:\n",
    "\n",
    "```\n",
    "neg_balance = accounts.filter(accounts.new_balance < 0)\n",
    "```"
   ]
  },
  {
   "cell_type": "code",
   "execution_count": 21,
   "metadata": {},
   "outputs": [],
   "source": [
    "neg_balance = accounts.filter(accounts.new_balance < 0)"
   ]
  },
  {
   "cell_type": "markdown",
   "metadata": {},
   "source": [
    "12. Read client data from a json file:\n",
    "\n",
    "```\n",
    "clients = spark.read.json('./data/clients.json')\n",
    "```"
   ]
  },
  {
   "cell_type": "code",
   "execution_count": 22,
   "metadata": {},
   "outputs": [],
   "source": [
    "clients = spark.read.json('./data/clients.json')"
   ]
  },
  {
   "cell_type": "markdown",
   "metadata": {},
   "source": [
    "13. Get the clients with a negative balance:\n",
    "\n",
    "```\n",
    "clients = clients.join(neg_balance, 'account_number', 'inner')\n",
    "```"
   ]
  },
  {
   "cell_type": "code",
   "execution_count": 23,
   "metadata": {},
   "outputs": [],
   "source": [
    "clients = clients.join(neg_balance, 'account_number', 'inner')"
   ]
  },
  {
   "cell_type": "markdown",
   "metadata": {},
   "source": [
    "14. Look at the top five clients with negative balances:\n",
    "\n",
    "```\n",
    "clients.select(['first_name', 'last_name', 'account_number', 'new_balance']).show(5)\n",
    "```"
   ]
  },
  {
   "cell_type": "code",
   "execution_count": 26,
   "metadata": {},
   "outputs": [
    {
     "name": "stdout",
     "output_type": "stream",
     "text": [
      "+----------+---------+------------------+-----------+\n",
      "|first_name|last_name|    account_number|new_balance|\n",
      "+----------+---------+------------------+-----------+\n",
      "|    Meagan| Sandoval|JMTP45763117901514|   -27573.0|\n",
      "|  Michelle|   Knight|RBUE05237750254383|  -103459.0|\n",
      "|      Paul|   Massey|RJMY57096756148587|   -58329.0|\n",
      "|  Michelle|    Perez|ZYMB62177146259441|   -55431.0|\n",
      "|     David|    Green|LRTH65732611614073|  -103831.0|\n",
      "+----------+---------+------------------+-----------+\n",
      "only showing top 5 rows\n",
      "\n"
     ]
    }
   ],
   "source": [
    "clients.select(['first_name', 'last_name', 'account_number', 'new_balance']).show(5)"
   ]
  },
  {
   "cell_type": "code",
   "execution_count": null,
   "metadata": {},
   "outputs": [],
   "source": []
  }
 ],
 "metadata": {
  "kernelspec": {
   "display_name": "Python 3",
   "language": "python",
   "name": "python3"
  },
  "language_info": {
   "codemirror_mode": {
    "name": "ipython",
    "version": 3
   },
   "file_extension": ".py",
   "mimetype": "text/x-python",
   "name": "python",
   "nbconvert_exporter": "python",
   "pygments_lexer": "ipython3",
   "version": "3.7.6"
  }
 },
 "nbformat": 4,
 "nbformat_minor": 4
}
