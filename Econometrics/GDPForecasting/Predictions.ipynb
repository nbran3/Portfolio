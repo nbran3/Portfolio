{
 "cells": [
  {
   "cell_type": "code",
   "execution_count": null,
   "metadata": {},
   "outputs": [],
   "source": [
    "import pandas as pd\n",
    "from statsmodels.tsa.arima.model import ARIMA\n",
    "df = pd.read_csv('AllYearsGDP.csv')"
   ]
  },
  {
   "cell_type": "code",
   "execution_count": null,
   "metadata": {},
   "outputs": [],
   "source": [
    "df.set_index('Place', inplace=True)\n",
    "predictions_2027 = {}\n",
    "\n",
    "for index, row in df.iterrows():\n",
    "    gdp_row = row.astype(int)\n",
    "    model = ARIMA(gdp_row, order=(2, 2, 2))\n",
    "    model_fit = model.fit()\n",
    "\n",
    "    forecasted_values = model_fit.forecast(steps=6)\n",
    "    prediction_2027 = forecasted_values\n",
    "    predictions_2027[index] = prediction_2027\n",
    "\n",
    "df['2027 GDP'] = pd.Series(predictions_2027)\n",
    "df.to_csv('predicted_gdp.csv')"
   ]
  },
  {
   "cell_type": "code",
   "execution_count": null,
   "metadata": {},
   "outputs": [],
   "source": [
    "\n",
    "\n"
   ]
  },
  {
   "cell_type": "code",
   "execution_count": null,
   "metadata": {},
   "outputs": [],
   "source": []
  }
 ],
 "metadata": {
  "kernelspec": {
   "display_name": "conda_env_name",
   "language": "python",
   "name": "conda_env_name"
  },
  "language_info": {
   "codemirror_mode": {
    "name": "ipython",
    "version": 3
   },
   "file_extension": ".py",
   "mimetype": "text/x-python",
   "name": "python",
   "nbconvert_exporter": "python",
   "pygments_lexer": "ipython3",
   "version": "3.11.3"
  },
  "orig_nbformat": 4
 },
 "nbformat": 4,
 "nbformat_minor": 2
}
